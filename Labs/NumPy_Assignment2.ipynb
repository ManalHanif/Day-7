{
  "cells": [
    {
      "cell_type": "markdown",
      "id": "5ffb93ae",
      "metadata": {
        "id": "5ffb93ae"
      },
      "source": [
        "# Q1: Import numpy library"
      ]
    },
    {
      "cell_type": "code",
      "execution_count": 23,
      "id": "936d4703",
      "metadata": {
        "id": "936d4703"
      },
      "outputs": [],
      "source": [
        "import numpy as np"
      ]
    },
    {
      "cell_type": "markdown",
      "id": "b6991a89",
      "metadata": {
        "id": "b6991a89"
      },
      "source": [
        "# Q2: Generate a sequence of 15 floats using linspace() function"
      ]
    },
    {
      "cell_type": "code",
      "execution_count": 24,
      "id": "43bf04a5",
      "metadata": {
        "colab": {
          "base_uri": "https://localhost:8080/"
        },
        "id": "43bf04a5",
        "outputId": "8838fb74-2fa8-4e75-dd48-80e2d67e6bde"
      },
      "outputs": [
        {
          "output_type": "execute_result",
          "data": {
            "text/plain": [
              "array([ 0.        ,  0.71428571,  1.42857143,  2.14285714,  2.85714286,\n",
              "        3.57142857,  4.28571429,  5.        ,  5.71428571,  6.42857143,\n",
              "        7.14285714,  7.85714286,  8.57142857,  9.28571429, 10.        ])"
            ]
          },
          "metadata": {},
          "execution_count": 24
        }
      ],
      "source": [
        "# generate sequence of 15 floats using linspace() function values between 0 - 10\n",
        "sequence = np.linspace(0,10, 15)\n",
        "sequence"
      ]
    },
    {
      "cell_type": "markdown",
      "id": "7144bba8",
      "metadata": {
        "id": "7144bba8"
      },
      "source": [
        "# Q3: Create a 3-D array in shape (2, 2, 3) containing the four arrays given below\n",
        "Note : the array's name is up to you.\n",
        "\n",
        "|      |       |          |         |\n",
        "|------| ----- | -------- | ------- |\n",
        "|arr1 | 1.1    | 2.1       | 3.1        |\n",
        "|arr2 | 4.1    | 5.1       | 6.1        |\n",
        "|arr3 | 7.1    | 8.1       | 9.1        |\n",
        "|arr4 | 10.1   | 11.1      | 12.1       |"
      ]
    },
    {
      "cell_type": "code",
      "execution_count": 25,
      "id": "c1c3f9dc",
      "metadata": {
        "id": "c1c3f9dc",
        "colab": {
          "base_uri": "https://localhost:8080/"
        },
        "outputId": "f6f607dc-7d00-431a-a27e-d64ccd243f3f"
      },
      "outputs": [
        {
          "output_type": "execute_result",
          "data": {
            "text/plain": [
              "array([[[ 1.1,  2.1,  3.1],\n",
              "        [ 4.1,  5.1,  6.1]],\n",
              "\n",
              "       [[ 7.1,  8.1,  9.1],\n",
              "        [10.1, 11.1, 12.1]]])"
            ]
          },
          "metadata": {},
          "execution_count": 25
        }
      ],
      "source": [
        "array3D=np.array([[[1.1,2.1,3.1],[4.1,5.1,6.1]],[[7.1,8.1,9.1],[10.1,11.1,12.1]]])\n",
        "array3D"
      ]
    },
    {
      "cell_type": "markdown",
      "id": "807acbf6",
      "metadata": {
        "id": "807acbf6"
      },
      "source": [
        "# Q4: Print the following:\n",
        "Note: use the same array from Q3.\n",
        "- Array's type.\n",
        "- Array's elements datatype.\n",
        "- Array's shape.\n",
        "- Array's size.\n",
        "- Array's dimention."
      ]
    },
    {
      "cell_type": "code",
      "execution_count": 26,
      "id": "6e90d6a0",
      "metadata": {
        "colab": {
          "base_uri": "https://localhost:8080/"
        },
        "id": "6e90d6a0",
        "outputId": "00dfbd7d-5ce4-4b9d-ac85-d498bb68a474"
      },
      "outputs": [
        {
          "output_type": "stream",
          "name": "stdout",
          "text": [
            "array3D type: <class 'numpy.ndarray'>\n",
            "array3D elements datatype: float64\n",
            "array3D shape: (2, 2, 3)\n",
            "array3D: 12\n",
            "array3D dimention: 3\n"
          ]
        }
      ],
      "source": [
        "print('array3D type:',type(array3D))\n",
        "print(\"array3D elements datatype:\",array3D.dtype)\n",
        "print(\"array3D shape:\",array3D.shape)\n",
        "print('array3D:',array3D.size)\n",
        "print('array3D dimention:',array3D.ndim)"
      ]
    },
    {
      "cell_type": "markdown",
      "id": "db4958b5",
      "metadata": {
        "id": "db4958b5"
      },
      "source": [
        "# Q5:  Change the array dimention from 3-D to 4-D\n",
        "Note: use the same array from Q3.\n",
        "- Create a new array to hold the changes.\n",
        "- Print the new array's dimention and shape."
      ]
    },
    {
      "cell_type": "code",
      "source": [
        "array4D = np.expand_dims(array3D, axis=0)\n",
        "array4D"
      ],
      "metadata": {
        "colab": {
          "base_uri": "https://localhost:8080/"
        },
        "id": "ifAcmNsNYXyM",
        "outputId": "8f104488-2cca-421c-f97a-c9ed0d5f754d"
      },
      "id": "ifAcmNsNYXyM",
      "execution_count": 27,
      "outputs": [
        {
          "output_type": "execute_result",
          "data": {
            "text/plain": [
              "array([[[[ 1.1,  2.1,  3.1],\n",
              "         [ 4.1,  5.1,  6.1]],\n",
              "\n",
              "        [[ 7.1,  8.1,  9.1],\n",
              "         [10.1, 11.1, 12.1]]]])"
            ]
          },
          "metadata": {},
          "execution_count": 27
        }
      ]
    },
    {
      "cell_type": "markdown",
      "id": "454f2504",
      "metadata": {
        "id": "454f2504"
      },
      "source": [
        "# Q6: Change the array's elements datatype to integer  \n",
        "Note: use the same array from Q5.\n",
        "\n",
        "- Create a new array to hold the changes.\n",
        "- Print the new array."
      ]
    },
    {
      "cell_type": "code",
      "execution_count": 28,
      "id": "8135b045",
      "metadata": {
        "id": "8135b045",
        "colab": {
          "base_uri": "https://localhost:8080/"
        },
        "outputId": "87a873bf-d964-46fe-e7b9-5162e49a8e00"
      },
      "outputs": [
        {
          "output_type": "execute_result",
          "data": {
            "text/plain": [
              "array([[[[ 1,  2,  3],\n",
              "         [ 4,  5,  6]],\n",
              "\n",
              "        [[ 7,  8,  9],\n",
              "         [10, 11, 12]]]])"
            ]
          },
          "metadata": {},
          "execution_count": 28
        }
      ],
      "source": [
        "array4dInt = array4D.astype(int)\n",
        "array4dInt"
      ]
    },
    {
      "cell_type": "markdown",
      "id": "ab90badc",
      "metadata": {
        "id": "ab90badc"
      },
      "source": [
        "# Q7: Print all array's elements using for loop\n",
        "Note: use the same array from Q6.\n",
        "\n",
        "Hint: use nditer()"
      ]
    },
    {
      "cell_type": "code",
      "execution_count": 29,
      "id": "a0d58d15",
      "metadata": {
        "colab": {
          "base_uri": "https://localhost:8080/"
        },
        "id": "a0d58d15",
        "outputId": "9d221716-b47f-4009-da0b-5e90e30af2d7"
      },
      "outputs": [
        {
          "output_type": "stream",
          "name": "stdout",
          "text": [
            "1\n",
            "2\n",
            "3\n",
            "4\n",
            "5\n",
            "6\n",
            "7\n",
            "8\n",
            "9\n",
            "10\n",
            "11\n",
            "12\n"
          ]
        }
      ],
      "source": [
        "for element in np.nditer(array4dInt):\n",
        "    print(element)"
      ]
    },
    {
      "cell_type": "markdown",
      "id": "afa8b5f3",
      "metadata": {
        "id": "afa8b5f3"
      },
      "source": [
        "# Q8:  Print number 8 using array slicing\n",
        "Note: use the same array from Q6."
      ]
    },
    {
      "cell_type": "code",
      "execution_count": 30,
      "id": "6e12e2d7",
      "metadata": {
        "colab": {
          "base_uri": "https://localhost:8080/"
        },
        "id": "6e12e2d7",
        "outputId": "b24c5f0a-d362-491e-89cc-7f5b4bc5cb3e"
      },
      "outputs": [
        {
          "output_type": "execute_result",
          "data": {
            "text/plain": [
              "8"
            ]
          },
          "metadata": {},
          "execution_count": 30
        }
      ],
      "source": [
        "array4dInt[0,1,0,1]"
      ]
    },
    {
      "cell_type": "markdown",
      "id": "e2e71895",
      "metadata": {
        "id": "e2e71895"
      },
      "source": [
        "# Q9: Print number 5 and number 6 using array slicing\n",
        "Note: use the same array from Q6."
      ]
    },
    {
      "cell_type": "code",
      "execution_count": 31,
      "id": "c3218bcb",
      "metadata": {
        "colab": {
          "base_uri": "https://localhost:8080/"
        },
        "id": "c3218bcb",
        "outputId": "e8bca415-a6c2-41e3-8c21-a703726acbfe"
      },
      "outputs": [
        {
          "output_type": "stream",
          "name": "stdout",
          "text": [
            "5\n",
            "6\n"
          ]
        }
      ],
      "source": [
        "print(array4dInt[0,0,1,1])\n",
        "print(array4dInt[0,0,1,2])"
      ]
    },
    {
      "cell_type": "markdown",
      "id": "e5d63cd3",
      "metadata": {
        "id": "e5d63cd3"
      },
      "source": [
        "# Q10: Search for number 8 using where()\n",
        "Note: use the same array from Q6.\n",
        "\n",
        "Note: where() is only used with small data.\n",
        "\n",
        "*the output represents the path of the index that leads to number 8*"
      ]
    },
    {
      "cell_type": "code",
      "execution_count": 32,
      "id": "ddaf0146",
      "metadata": {
        "colab": {
          "base_uri": "https://localhost:8080/"
        },
        "id": "ddaf0146",
        "outputId": "8742831e-510a-4132-950f-8d83a8c11697"
      },
      "outputs": [
        {
          "output_type": "execute_result",
          "data": {
            "text/plain": [
              "(array([0]), array([1]), array([0]), array([1]))"
            ]
          },
          "metadata": {},
          "execution_count": 32
        }
      ],
      "source": [
        "path = np.where(array4dInt==8)\n",
        "path"
      ]
    },
    {
      "cell_type": "markdown",
      "id": "c89f41ad",
      "metadata": {
        "id": "c89f41ad"
      },
      "source": [
        "# Q11: Reshape the array as the following\n",
        "\n",
        "    array([[[ 1, 2],\n",
        "            [ 3,  4],\n",
        "            [ 5,  6]],\n",
        "\n",
        "           [[ 7,  8],\n",
        "            [ 9, 10],\n",
        "            [11, 12]]])\n",
        "            \n",
        " Note: use the same array from Q6."
      ]
    },
    {
      "cell_type": "code",
      "execution_count": 33,
      "id": "d9b632bd",
      "metadata": {
        "id": "d9b632bd",
        "colab": {
          "base_uri": "https://localhost:8080/"
        },
        "outputId": "3dfb4e4b-c9a1-4f1d-873d-782d0633c568"
      },
      "outputs": [
        {
          "output_type": "execute_result",
          "data": {
            "text/plain": [
              "array([[[ 1,  2],\n",
              "        [ 3,  4],\n",
              "        [ 5,  6]],\n",
              "\n",
              "       [[ 7,  8],\n",
              "        [ 9, 10],\n",
              "        [11, 12]]])"
            ]
          },
          "metadata": {},
          "execution_count": 33
        }
      ],
      "source": [
        "reshapedarr=array4dInt.reshape(2,3,2)\n",
        "reshapedarr"
      ]
    },
    {
      "cell_type": "markdown",
      "id": "539c16b1",
      "metadata": {
        "id": "539c16b1"
      },
      "source": [
        "# Q12: Join the given arrays below\n",
        "    arr1 = np.array([['A', 'B'], ['E', 'F']])\n",
        "    arr2 = np.array([['C', 'D'], ['G', 'H']])\n",
        "## Q12.1: Join the arrays without specifying the axis"
      ]
    },
    {
      "cell_type": "code",
      "execution_count": 34,
      "id": "d6acdeaf",
      "metadata": {
        "id": "d6acdeaf",
        "colab": {
          "base_uri": "https://localhost:8080/"
        },
        "outputId": "0860317c-90e5-4a0c-a3aa-836f1aa1edb6"
      },
      "outputs": [
        {
          "output_type": "execute_result",
          "data": {
            "text/plain": [
              "array([['A', 'B'],\n",
              "       ['E', 'F'],\n",
              "       ['C', 'D'],\n",
              "       ['G', 'H']], dtype='<U1')"
            ]
          },
          "metadata": {},
          "execution_count": 34
        }
      ],
      "source": [
        "arr1 = np.array([['A', 'B'], ['E', 'F']])\n",
        "arr2 = np.array([['C', 'D'], ['G', 'H']])\n",
        "\n",
        "joinedarr=np.concatenate((arr1, arr2))\n",
        "joinedarr\n"
      ]
    },
    {
      "cell_type": "markdown",
      "id": "1a37dd47",
      "metadata": {
        "id": "1a37dd47"
      },
      "source": [
        "# Q12.2: Join the arrays along rows with axis = 1"
      ]
    },
    {
      "cell_type": "code",
      "execution_count": 35,
      "id": "b849658c",
      "metadata": {
        "colab": {
          "base_uri": "https://localhost:8080/"
        },
        "id": "b849658c",
        "outputId": "6750de7f-087a-4e35-c515-78f5cb757b33"
      },
      "outputs": [
        {
          "output_type": "execute_result",
          "data": {
            "text/plain": [
              "array([['A', 'B', 'C', 'D'],\n",
              "       ['E', 'F', 'G', 'H']], dtype='<U1')"
            ]
          },
          "metadata": {},
          "execution_count": 35
        }
      ],
      "source": [
        "np.concatenate((arr1, arr2),axis=1)"
      ]
    },
    {
      "cell_type": "markdown",
      "id": "7296eecf",
      "metadata": {
        "id": "7296eecf"
      },
      "source": [
        "# Q13: Split the array into two arrays with axis = 1, each array should contain four arrays.\n",
        "Note: use the same array from Q12.1"
      ]
    },
    {
      "cell_type": "code",
      "execution_count": 36,
      "id": "7f7f5e49",
      "metadata": {
        "id": "7f7f5e49",
        "colab": {
          "base_uri": "https://localhost:8080/"
        },
        "outputId": "9ae28127-f226-4af0-dfeb-2169582a3710"
      },
      "outputs": [
        {
          "output_type": "execute_result",
          "data": {
            "text/plain": [
              "[array([['A'],\n",
              "        ['E'],\n",
              "        ['C'],\n",
              "        ['G']], dtype='<U1'),\n",
              " array([['B'],\n",
              "        ['F'],\n",
              "        ['D'],\n",
              "        ['H']], dtype='<U1')]"
            ]
          },
          "metadata": {},
          "execution_count": 36
        }
      ],
      "source": [
        "splitarr=np.split(joinedarr,2,axis=1)\n",
        "splitarr"
      ]
    }
  ],
  "metadata": {
    "kernelspec": {
      "display_name": "Python 3 (ipykernel)",
      "language": "python",
      "name": "python3"
    },
    "language_info": {
      "codemirror_mode": {
        "name": "ipython",
        "version": 3
      },
      "file_extension": ".py",
      "mimetype": "text/x-python",
      "name": "python",
      "nbconvert_exporter": "python",
      "pygments_lexer": "ipython3",
      "version": "3.9.12"
    },
    "colab": {
      "provenance": []
    }
  },
  "nbformat": 4,
  "nbformat_minor": 5
}