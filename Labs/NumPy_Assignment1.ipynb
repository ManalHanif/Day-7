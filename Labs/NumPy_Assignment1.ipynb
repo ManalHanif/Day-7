{
  "cells": [
    {
      "cell_type": "code",
      "execution_count": 57,
      "id": "212fd1ba",
      "metadata": {
        "id": "212fd1ba"
      },
      "outputs": [],
      "source": [
        "import numpy as np"
      ]
    },
    {
      "cell_type": "markdown",
      "id": "10803eb0",
      "metadata": {
        "id": "10803eb0"
      },
      "source": [
        "## Q#1: Create x array with elements equal to 1."
      ]
    },
    {
      "cell_type": "code",
      "execution_count": 58,
      "id": "3307454f",
      "metadata": {
        "colab": {
          "base_uri": "https://localhost:8080/"
        },
        "id": "3307454f",
        "outputId": "5cb98efd-9c49-45bd-c5a7-1b975c405535"
      },
      "outputs": [
        {
          "output_type": "execute_result",
          "data": {
            "text/plain": [
              "array([1., 1., 1.])"
            ]
          },
          "metadata": {},
          "execution_count": 58
        }
      ],
      "source": [
        "np.ones(3)"
      ]
    },
    {
      "cell_type": "markdown",
      "id": "7795306d",
      "metadata": {
        "id": "7795306d"
      },
      "source": [
        "## Q#2: Create y array with elements equal to 0."
      ]
    },
    {
      "cell_type": "code",
      "execution_count": 59,
      "id": "9550b063",
      "metadata": {
        "colab": {
          "base_uri": "https://localhost:8080/"
        },
        "id": "9550b063",
        "outputId": "7740cc18-a132-4ab0-a8d7-67073143680e"
      },
      "outputs": [
        {
          "output_type": "execute_result",
          "data": {
            "text/plain": [
              "array([0., 0., 0.])"
            ]
          },
          "metadata": {},
          "execution_count": 59
        }
      ],
      "source": [
        "np.zeros(3)"
      ]
    },
    {
      "cell_type": "markdown",
      "id": "cde6a939",
      "metadata": {
        "id": "cde6a939"
      },
      "source": [
        "## Q#3: Add x and y arrays."
      ]
    },
    {
      "cell_type": "code",
      "execution_count": 60,
      "id": "71070d1d",
      "metadata": {
        "colab": {
          "base_uri": "https://localhost:8080/"
        },
        "id": "71070d1d",
        "outputId": "aa1d73d3-68de-42b2-dc1d-c4770ea47eb1"
      },
      "outputs": [
        {
          "output_type": "execute_result",
          "data": {
            "text/plain": [
              "array([ 6,  8, 10, 12])"
            ]
          },
          "metadata": {},
          "execution_count": 60
        }
      ],
      "source": [
        "x=np.array([1,2,3,4])\n",
        "y=np.array([5,6,7,8])\n",
        "x+y"
      ]
    },
    {
      "cell_type": "markdown",
      "id": "ed854f4c",
      "metadata": {
        "id": "ed854f4c"
      },
      "source": [
        "## Q#4: Print x array characteristics (e.g: dimension, shape, size, type)."
      ]
    },
    {
      "cell_type": "code",
      "execution_count": 61,
      "id": "32627c83",
      "metadata": {
        "colab": {
          "base_uri": "https://localhost:8080/"
        },
        "id": "32627c83",
        "outputId": "021caf4e-9709-4181-aea0-0ad778bb8d3e"
      },
      "outputs": [
        {
          "output_type": "stream",
          "name": "stdout",
          "text": [
            "Dimension: 1\n",
            "shape: (4,)\n",
            "size: 4\n",
            "type: int64\n"
          ]
        }
      ],
      "source": [
        "print('Dimension:',x.ndim)\n",
        "print('shape:',x.shape)\n",
        "print('size:',x.size)\n",
        "print('type:',x.dtype)"
      ]
    },
    {
      "cell_type": "markdown",
      "id": "dbd46a73",
      "metadata": {
        "id": "dbd46a73"
      },
      "source": [
        "## Q#5: Create a 2D array \"called w\" as the following:\n",
        "\n",
        "|       |          |\n",
        "| ----- | -------- |\n",
        "| 11    | 12       |\n",
        "| 13    | 14       |\n",
        "| 15    | 16       |\n"
      ]
    },
    {
      "cell_type": "code",
      "execution_count": 62,
      "id": "b9c7bbb0",
      "metadata": {
        "colab": {
          "base_uri": "https://localhost:8080/"
        },
        "id": "b9c7bbb0",
        "outputId": "dcd76796-7911-443d-eea0-35076c409470"
      },
      "outputs": [
        {
          "output_type": "execute_result",
          "data": {
            "text/plain": [
              "array([[11, 12],\n",
              "       [13, 14],\n",
              "       [15, 16]])"
            ]
          },
          "metadata": {},
          "execution_count": 62
        }
      ],
      "source": [
        "# write your code here ^_^\n",
        "w=np.array([[11,12],[13,14],[15,16]])\n",
        "w"
      ]
    },
    {
      "cell_type": "markdown",
      "id": "0e62bd09",
      "metadata": {
        "id": "0e62bd09"
      },
      "source": [
        "## Q#6: Create z array contains the numbers from 1 to 3."
      ]
    },
    {
      "cell_type": "code",
      "execution_count": 63,
      "id": "cee8aba0",
      "metadata": {
        "colab": {
          "base_uri": "https://localhost:8080/"
        },
        "id": "cee8aba0",
        "outputId": "1d0ce74d-f8af-472a-910c-be94e7f91b60"
      },
      "outputs": [
        {
          "output_type": "execute_result",
          "data": {
            "text/plain": [
              "array([1, 2, 3])"
            ]
          },
          "metadata": {},
          "execution_count": 63
        }
      ],
      "source": [
        "z=np.arange(1,4)\n",
        "z"
      ]
    },
    {
      "cell_type": "markdown",
      "id": "32b00711",
      "metadata": {
        "id": "32b00711"
      },
      "source": [
        "## Q#7: Combine the arrays z and w in horizontal way then save it in a new variable \"newArray\"."
      ]
    },
    {
      "cell_type": "code",
      "execution_count": 64,
      "id": "d218f892",
      "metadata": {
        "id": "d218f892",
        "colab": {
          "base_uri": "https://localhost:8080/"
        },
        "outputId": "b6298cdd-5a16-46ed-97a5-95d479a60586"
      },
      "outputs": [
        {
          "output_type": "execute_result",
          "data": {
            "text/plain": [
              "array([[ 1, 11, 12],\n",
              "       [ 2, 13, 14],\n",
              "       [ 3, 15, 16]])"
            ]
          },
          "metadata": {},
          "execution_count": 64
        }
      ],
      "source": [
        "z=z.reshape(-1,1)\n",
        "newArray=np.hstack([z,w])\n",
        "newArray"
      ]
    },
    {
      "cell_type": "markdown",
      "id": "7e009910",
      "metadata": {
        "id": "7e009910"
      },
      "source": [
        "## Q#8: Print all elements of \"newArray\" using the loop."
      ]
    },
    {
      "cell_type": "code",
      "execution_count": 65,
      "id": "abbed923",
      "metadata": {
        "id": "abbed923",
        "colab": {
          "base_uri": "https://localhost:8080/"
        },
        "outputId": "bcf3934b-e189-4add-a203-76e34df3a61b"
      },
      "outputs": [
        {
          "output_type": "stream",
          "name": "stdout",
          "text": [
            "1 11 12 2 13 14 3 15 16 "
          ]
        }
      ],
      "source": [
        "for row in newArray:\n",
        "  for element in row:\n",
        "    print(element,end=' ')"
      ]
    },
    {
      "cell_type": "markdown",
      "id": "011c6d2d",
      "metadata": {
        "id": "011c6d2d"
      },
      "source": [
        "## Q#9: Reverse the columns and rows of \"newArray\"."
      ]
    },
    {
      "cell_type": "code",
      "source": [
        "newArray=newArray[::-1,::-1]\n",
        "newArray"
      ],
      "metadata": {
        "colab": {
          "base_uri": "https://localhost:8080/"
        },
        "id": "pIjXgceVQsIl",
        "outputId": "3d301034-51cf-46ee-eb71-669d189c49d7"
      },
      "id": "pIjXgceVQsIl",
      "execution_count": 66,
      "outputs": [
        {
          "output_type": "execute_result",
          "data": {
            "text/plain": [
              "array([[16, 15,  3],\n",
              "       [14, 13,  2],\n",
              "       [12, 11,  1]])"
            ]
          },
          "metadata": {},
          "execution_count": 66
        }
      ]
    },
    {
      "cell_type": "markdown",
      "id": "f40b57c3",
      "metadata": {
        "id": "f40b57c3"
      },
      "source": [
        "## Q#10: Decrement all elements of \"newArray\" with 1."
      ]
    },
    {
      "cell_type": "code",
      "execution_count": 67,
      "id": "aea004df",
      "metadata": {
        "id": "aea004df",
        "colab": {
          "base_uri": "https://localhost:8080/"
        },
        "outputId": "030ed65d-0016-4465-b6fa-0719058ac2bf"
      },
      "outputs": [
        {
          "output_type": "execute_result",
          "data": {
            "text/plain": [
              "array([[15, 14,  2],\n",
              "       [13, 12,  1],\n",
              "       [11, 10,  0]])"
            ]
          },
          "metadata": {},
          "execution_count": 67
        }
      ],
      "source": [
        "newArray=newArray -1\n",
        "newArray"
      ]
    },
    {
      "cell_type": "markdown",
      "id": "8901e8be",
      "metadata": {
        "id": "8901e8be"
      },
      "source": [
        "## Q#11: Find smallest and biggest values in \"newArray\"."
      ]
    },
    {
      "cell_type": "code",
      "execution_count": 68,
      "id": "4ea08613",
      "metadata": {
        "id": "4ea08613",
        "colab": {
          "base_uri": "https://localhost:8080/"
        },
        "outputId": "c54465d0-277e-44f5-8a13-2e3bfda79f46"
      },
      "outputs": [
        {
          "output_type": "stream",
          "name": "stdout",
          "text": [
            "Max: 15\n",
            "Min: 0\n"
          ]
        }
      ],
      "source": [
        "print('Max:',newArray.max())\n",
        "print('Min:',newArray.min())"
      ]
    },
    {
      "cell_type": "markdown",
      "id": "c5d5d4ca",
      "metadata": {
        "id": "c5d5d4ca"
      },
      "source": [
        "## Q#12: Print the first row of \"newArray\" using indexing."
      ]
    },
    {
      "cell_type": "code",
      "execution_count": 69,
      "id": "73e3b5a5",
      "metadata": {
        "id": "73e3b5a5",
        "colab": {
          "base_uri": "https://localhost:8080/"
        },
        "outputId": "7da0fcf2-abe7-4220-cda9-c73d0990b209"
      },
      "outputs": [
        {
          "output_type": "execute_result",
          "data": {
            "text/plain": [
              "array([15, 14,  2])"
            ]
          },
          "metadata": {},
          "execution_count": 69
        }
      ],
      "source": [
        "newArray[0,:]"
      ]
    },
    {
      "cell_type": "markdown",
      "id": "78f4d6c1",
      "metadata": {
        "id": "78f4d6c1"
      },
      "source": [
        "## Q#13: Print the number equals 12 of \"newArray\" using indexing."
      ]
    },
    {
      "cell_type": "code",
      "execution_count": 70,
      "id": "7ad660b7",
      "metadata": {
        "id": "7ad660b7",
        "colab": {
          "base_uri": "https://localhost:8080/"
        },
        "outputId": "bf8bd100-08c8-46c3-bfeb-66b1e4a8f4ff"
      },
      "outputs": [
        {
          "output_type": "execute_result",
          "data": {
            "text/plain": [
              "12"
            ]
          },
          "metadata": {},
          "execution_count": 70
        }
      ],
      "source": [
        "newArray[1,1]"
      ]
    },
    {
      "cell_type": "markdown",
      "id": "932b5c3d",
      "metadata": {
        "id": "932b5c3d"
      },
      "source": [
        "## Q#14: Print the numbers equal 0 and 13 of \"newArray\" using indexing."
      ]
    },
    {
      "cell_type": "code",
      "execution_count": 71,
      "id": "31fb5fd0",
      "metadata": {
        "id": "31fb5fd0",
        "colab": {
          "base_uri": "https://localhost:8080/"
        },
        "outputId": "ff69f636-e73d-4af7-9fd5-bc3ffef6c3a3"
      },
      "outputs": [
        {
          "output_type": "stream",
          "name": "stdout",
          "text": [
            "0\n",
            "13\n"
          ]
        }
      ],
      "source": [
        "print(newArray[2,-1])\n",
        "print(newArray[1,0])"
      ]
    },
    {
      "cell_type": "markdown",
      "id": "27e0f68e",
      "metadata": {
        "id": "27e0f68e"
      },
      "source": [
        "## Q#15: Change the shape of \"newArray\" to (9,1)."
      ]
    },
    {
      "cell_type": "code",
      "execution_count": 72,
      "id": "35f224ad",
      "metadata": {
        "id": "35f224ad",
        "colab": {
          "base_uri": "https://localhost:8080/"
        },
        "outputId": "35f63277-597c-4aa3-a4da-98685ec2541f"
      },
      "outputs": [
        {
          "output_type": "execute_result",
          "data": {
            "text/plain": [
              "array([[15],\n",
              "       [14],\n",
              "       [ 2],\n",
              "       [13],\n",
              "       [12],\n",
              "       [ 1],\n",
              "       [11],\n",
              "       [10],\n",
              "       [ 0]])"
            ]
          },
          "metadata": {},
          "execution_count": 72
        }
      ],
      "source": [
        "# write your code here ^_^\n",
        "newArray=newArray.reshape(9,1)\n",
        "newArray"
      ]
    },
    {
      "cell_type": "markdown",
      "id": "e6d104c5",
      "metadata": {
        "id": "e6d104c5"
      },
      "source": [
        "## Q#16: Change the shape of \"newArray\" to (3,2)."
      ]
    },
    {
      "cell_type": "code",
      "execution_count": 73,
      "id": "724d51d5",
      "metadata": {
        "id": "724d51d5",
        "colab": {
          "base_uri": "https://localhost:8080/"
        },
        "outputId": "bd533db1-69e3-4a5a-cd25-91294f275753"
      },
      "outputs": [
        {
          "output_type": "execute_result",
          "data": {
            "text/plain": [
              "array([[15, 14],\n",
              "       [ 2, 13],\n",
              "       [12,  1]])"
            ]
          },
          "metadata": {},
          "execution_count": 73
        }
      ],
      "source": [
        "# i have removed last 3 element in newArray to be able to fit shape(3,2)\n",
        "newArray=newArray[:-3].reshape(3,2)\n",
        "newArray"
      ]
    },
    {
      "cell_type": "markdown",
      "id": "09567fdc",
      "metadata": {
        "id": "09567fdc"
      },
      "source": [
        "# Well Done 🎉"
      ]
    }
  ],
  "metadata": {
    "kernelspec": {
      "display_name": "Python 3 (ipykernel)",
      "language": "python",
      "name": "python3"
    },
    "language_info": {
      "codemirror_mode": {
        "name": "ipython",
        "version": 3
      },
      "file_extension": ".py",
      "mimetype": "text/x-python",
      "name": "python",
      "nbconvert_exporter": "python",
      "pygments_lexer": "ipython3",
      "version": "3.9.12"
    },
    "colab": {
      "provenance": []
    }
  },
  "nbformat": 4,
  "nbformat_minor": 5
}